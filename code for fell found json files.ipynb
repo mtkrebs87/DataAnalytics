{
 "cells": [
  {
   "cell_type": "code",
   "execution_count": null,
   "id": "53387665",
   "metadata": {},
   "outputs": [],
   "source": [
    "#Conect my csv file to mango db#\n",
    "#Imort data first :\n",
    "    \n",
    "   # mongoimport --type csv -d meteorite -c meteorites_data --drop --headerline --file meteorites1983-2023.csv\n"
   ]
  },
  {
   "cell_type": "code",
   "execution_count": 1,
   "id": "b85a9182",
   "metadata": {},
   "outputs": [
    {
     "name": "stdout",
     "output_type": "stream",
     "text": [
      "JSON file \"found_meteorites.json\" created successfully.\n"
     ]
    }
   ],
   "source": [
    "# Retrive data with found meteorites 1983-2023 and save in json file\n",
    "import json\n",
    "from bson import ObjectId\n",
    "from pymongo import MongoClient\n",
    "\n",
    "# Custom JSON Encoder to handle ObjectId serialization\n",
    "class JSONEncoder(json.JSONEncoder):\n",
    "    def default(self, o):\n",
    "        if isinstance(o, ObjectId):\n",
    "            return str(o)\n",
    "        return super(JSONEncoder, self).default(o)\n",
    "\n",
    "# Create an instance of MongoClient\n",
    "mongo = MongoClient(port=27017)\n",
    "\n",
    "# Specify the database and collection names\n",
    "database_name = 'meteorite'\n",
    "collection_name = 'meteorites_data'\n",
    "\n",
    "# Assign the database and collection to variables\n",
    "db = mongo[database_name]\n",
    "collection = db[collection_name]\n",
    "\n",
    "# Define the query to retrieve meteorites that fell (not found)\n",
    "query = {'fall': 'Found'}\n",
    "\n",
    "# Retrieve all meteorites that match the query\n",
    "fell_meteorites = list(collection.find(query))\n",
    "\n",
    "# Specify the path for the new JSON file\n",
    "json_file_path = 'found_meteorites.json'\n",
    "\n",
    "# Write meteorite data to the JSON file using the custom encoder\n",
    "with open(json_file_path, 'w', encoding='utf-8') as json_file:\n",
    "    json.dump(fell_meteorites, json_file, indent=2, cls=JSONEncoder)\n",
    "\n",
    "print(f'JSON file \"{json_file_path}\" created successfully.')\n",
    "\n",
    "\n"
   ]
  },
  {
   "cell_type": "code",
   "execution_count": 2,
   "id": "d3a38115",
   "metadata": {
    "scrolled": true
   },
   "outputs": [
    {
     "name": "stdout",
     "output_type": "stream",
     "text": [
      "JSON file \"fell_meteorites.json\" created successfully.\n"
     ]
    }
   ],
   "source": [
    "# Retrive data with fell meteorites 1983-2023 and save in json file\n",
    "import json\n",
    "from bson import ObjectId\n",
    "from pymongo import MongoClient\n",
    "\n",
    "# Custom JSON Encoder to handle ObjectId serialization\n",
    "class JSONEncoder(json.JSONEncoder):\n",
    "    def default(self, o):\n",
    "        if isinstance(o, ObjectId):\n",
    "            return str(o)\n",
    "        return super(JSONEncoder, self).default(o)\n",
    "\n",
    "# Create an instance of MongoClient\n",
    "mongo = MongoClient(port=27017)\n",
    "\n",
    "# Specify the database and collection names\n",
    "database_name = 'meteorite'\n",
    "collection_name = 'meteorites_data'\n",
    "\n",
    "# Assign the database and collection to variables\n",
    "db = mongo[database_name]\n",
    "collection = db[collection_name]\n",
    "\n",
    "# Define the query to retrieve meteorites that fell\n",
    "query = {'fall': 'Fell'}\n",
    "\n",
    "# Retrieve all meteorites that match the query\n",
    "fell_meteorites = list(collection.find(query))\n",
    "\n",
    "# Specify the path for the new JSON file\n",
    "json_file_path = 'fell_meteorites.json'\n",
    "\n",
    "# Write meteorite data to the JSON file using the custom encoder\n",
    "with open(json_file_path, 'w', encoding='utf-8') as json_file:\n",
    "    json.dump(fell_meteorites, json_file, indent=2, cls=JSONEncoder)\n",
    "\n",
    "print(f'JSON file \"{json_file_path}\" created successfully.')\n",
    "\n",
    "    "
   ]
  },
  {
   "cell_type": "code",
   "execution_count": null,
   "id": "5756a38e",
   "metadata": {},
   "outputs": [],
   "source": []
  },
  {
   "cell_type": "code",
   "execution_count": null,
   "id": "5cb141e8",
   "metadata": {},
   "outputs": [],
   "source": []
  },
  {
   "cell_type": "code",
   "execution_count": null,
   "id": "e6c8adfc",
   "metadata": {},
   "outputs": [],
   "source": []
  },
  {
   "cell_type": "code",
   "execution_count": null,
   "id": "c7277d04",
   "metadata": {},
   "outputs": [],
   "source": []
  }
 ],
 "metadata": {
  "kernelspec": {
   "display_name": "Python 3 (ipykernel)",
   "language": "python",
   "name": "python3"
  },
  "language_info": {
   "codemirror_mode": {
    "name": "ipython",
    "version": 3
   },
   "file_extension": ".py",
   "mimetype": "text/x-python",
   "name": "python",
   "nbconvert_exporter": "python",
   "pygments_lexer": "ipython3",
   "version": "3.10.13"
  }
 },
 "nbformat": 4,
 "nbformat_minor": 5
}
