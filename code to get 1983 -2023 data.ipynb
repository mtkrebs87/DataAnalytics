{
 "cells": [
  {
   "cell_type": "code",
   "execution_count": null,
   "id": "6a6719a0",
   "metadata": {},
   "outputs": [],
   "source": [
    "#Conect my csv file to mango db#\n"
   ]
  },
  {
   "cell_type": "code",
   "execution_count": null,
   "id": "a80b1847",
   "metadata": {},
   "outputs": [],
   "source": [
    "#Imort data first :\n",
    "    \n",
    "   # mongoimport --type csv -d meteorite -c meteorites_data --drop --headerline --file Meteorite_Landings_original_file.csv\n"
   ]
  },
  {
   "cell_type": "code",
   "execution_count": null,
   "id": "7765286d",
   "metadata": {},
   "outputs": [],
   "source": []
  },
  {
   "cell_type": "code",
   "execution_count": 1,
   "id": "2d85baf6",
   "metadata": {
    "scrolled": true
   },
   "outputs": [
    {
     "name": "stdout",
     "output_type": "stream",
     "text": [
      "First 5 meteorites that fell between 1983 and :\n",
      "{'GeoLocation': '(13.66033, 28.96)',\n",
      " '_id': ObjectId('659f34b2c72de7d60a623e84'),\n",
      " 'fall': 'Fell',\n",
      " 'id': 447,\n",
      " 'mass (g)': 700,\n",
      " 'name': 'Al Zarnkh',\n",
      " 'nametype': 'Valid',\n",
      " 'recclass': 'LL5',\n",
      " 'reclat': 13.66033,\n",
      " 'reclong': 28.96,\n",
      " 'year': 2001}\n",
      "{'GeoLocation': '(45.82133, 6.01533)',\n",
      " '_id': ObjectId('659f34b2c72de7d60a623e88'),\n",
      " 'fall': 'Fell',\n",
      " 'id': 458,\n",
      " 'mass (g)': 252,\n",
      " 'name': 'Alby sur Chéran',\n",
      " 'nametype': 'Valid',\n",
      " 'recclass': 'Eucrite-mmict',\n",
      " 'reclat': 45.82133,\n",
      " 'reclong': 6.01533,\n",
      " 'year': 2002}\n",
      "{'GeoLocation': '(20.74575, 32.41275)',\n",
      " '_id': ObjectId('659f34b2c72de7d60a623e90'),\n",
      " 'fall': 'Fell',\n",
      " 'id': 48915,\n",
      " 'mass (g)': 3950,\n",
      " 'name': 'Almahata Sitta',\n",
      " 'nametype': 'Valid',\n",
      " 'recclass': 'Ureilite-an',\n",
      " 'reclat': 20.74575,\n",
      " 'reclong': 32.41275,\n",
      " 'year': 2008}\n",
      "{'GeoLocation': '(40.81056, 140.78556)',\n",
      " '_id': ObjectId('659f34b2c72de7d60a623e9c'),\n",
      " 'fall': 'Fell',\n",
      " 'id': 2313,\n",
      " 'mass (g)': 320,\n",
      " 'name': 'Aomori',\n",
      " 'nametype': 'Valid',\n",
      " 'recclass': 'L6',\n",
      " 'reclat': 40.81056,\n",
      " 'reclong': 140.78556,\n",
      " 'year': 1984}\n",
      "{'GeoLocation': '(31.805, -97.01)',\n",
      " '_id': ObjectId('659f34b2c72de7d60a623eab'),\n",
      " 'fall': 'Fell',\n",
      " 'id': 48954,\n",
      " 'mass (g)': 9500,\n",
      " 'name': 'Ash Creek',\n",
      " 'nametype': 'Valid',\n",
      " 'recclass': 'L6',\n",
      " 'reclat': 31.805,\n",
      " 'reclong': -97.01,\n",
      " 'year': 2009}\n"
     ]
    }
   ],
   "source": [
    "# Working with the original CSV file and cleaning data to retrieve meteorite data from 1983 to 2023\n",
    "\n",
    "from pymongo import MongoClient\n",
    "from pprint import pprint\n",
    "\n",
    "# Create an instance of MongoClient\n",
    "mongo = MongoClient(port=27017)\n",
    "\n",
    "# Specify the database and collection names\n",
    "database_name = 'meteorite'\n",
    "collection_name = 'meteorites_data'\n",
    "\n",
    "# Assign the database and collection to variables\n",
    "db = mongo[database_name]\n",
    "collection = db[collection_name]\n",
    "\n",
    "# Define the query to retrieve meteorites that fell between 1983 and 2023\n",
    "query = {'year': {'$gte': 1983, '$lte': 2023}}\n",
    "\n",
    "# Retrieve and print the first 5 meteorites that match the query\n",
    "matching_meteorites = collection.find(query).limit(5)\n",
    "print('First 5 meteorites that fell between 1983 and :')\n",
    "for meteorite in matching_meteorites:\n",
    "    pprint(meteorite)\n",
    "    "
   ]
  },
  {
   "cell_type": "code",
   "execution_count": 2,
   "id": "17923df6",
   "metadata": {},
   "outputs": [
    {
     "name": "stdout",
     "output_type": "stream",
     "text": [
      "DataFrame saved as CSV file: meteorites1983-2023.csv\n"
     ]
    }
   ],
   "source": [
    "# Saving clean data to csv file\n",
    "import pandas as pd\n",
    "# Retrieve meteorites that match the query and convert to a DataFrame\n",
    "matching_meteorites = list(collection.find(query))\n",
    "df = pd.DataFrame(matching_meteorites)\n",
    "\n",
    "# Save the DataFrame as a CSV file\n",
    "csv_file_path = 'meteorites1983-2023.csv'\n",
    "df.to_csv(csv_file_path, index=False)\n",
    "\n",
    "print(f'DataFrame saved as CSV file: {csv_file_path}')"
   ]
  },
  {
   "cell_type": "code",
   "execution_count": 7,
   "id": "5423b04a",
   "metadata": {},
   "outputs": [
    {
     "name": "stdout",
     "output_type": "stream",
     "text": [
      "CSV file \"meteorites_count_by_year.csv\" created successfully.\n"
     ]
    }
   ],
   "source": [
    "# Looking for meteorite fell/found summary per year\n",
    "# Saving retrieved data in CSV file\n",
    "\n",
    "import csv\n",
    "from pymongo import MongoClient\n",
    "\n",
    "# Create an instance of MongoClient\n",
    "mongo = MongoClient(port=27017)\n",
    "\n",
    "# Specify the database and collection names\n",
    "database_name = 'meteorite'\n",
    "collection_name = 'meteorites_data'\n",
    "\n",
    "# Assign the database and collection to variables\n",
    "db = mongo[database_name]\n",
    "collection = db[collection_name]\n",
    "\n",
    "# Define the aggregation pipeline to count meteorites by year\n",
    "pipeline = [\n",
    "    {'$match': {'year': {'$gte': 1983, '$lte': 2023}}},  \n",
    "    {'$group': {'_id': '$year', 'count': {'$sum': 1}}},  # Group by year and count the number of meteorites\n",
    "    {'$sort': {'_id': 1}}\n",
    "]\n",
    "\n",
    "# Execute the aggregation pipeline\n",
    "result = list(collection.aggregate(pipeline))\n",
    "\n",
    "# Specify the path for the new CSV file\n",
    "csv_file_path = 'meteorites_count_by_year.csv'\n",
    "\n",
    "# Write the result to the CSV file\n",
    "with open(csv_file_path, 'w', newline='', encoding='utf-8') as csv_file:\n",
    "    csv_writer = csv.writer(csv_file)\n",
    "    \n",
    "    # Write header row\n",
    "    csv_writer.writerow(['Year', 'Meteorites Count'])\n",
    "\n",
    "    # Write data rows\n",
    "    for group in result:\n",
    "        year = group['_id']\n",
    "        count = group['count']\n",
    "        csv_writer.writerow([year, count])\n",
    "\n",
    "print(f'CSV file \"{csv_file_path}\" created successfully.')\n"
   ]
  },
  {
   "cell_type": "code",
   "execution_count": 6,
   "id": "7fe4f53b",
   "metadata": {},
   "outputs": [
    {
     "name": "stdout",
     "output_type": "stream",
     "text": [
      "JSON file \"meteorite 1983-2023.json\" created successfully.\n"
     ]
    }
   ],
   "source": [
    "import json\n",
    "from pymongo import MongoClient\n",
    "from pprint import pprint\n",
    "from bson import ObjectId\n",
    "\n",
    "# Custom JSON Encoder to handle ObjectId serialization\n",
    "class JSONEncoder(json.JSONEncoder):\n",
    "    def default(self, o):\n",
    "        if isinstance(o, ObjectId):\n",
    "            return str(o)\n",
    "        return super(JSONEncoder, self).default(o)\n",
    "\n",
    "# Create an instance of MongoClient\n",
    "mongo = MongoClient(port=27017)\n",
    "\n",
    "# Specify the database and collection names\n",
    "database_name = 'meteorite'\n",
    "collection_name = 'meteorites_data'\n",
    "\n",
    "# Assign the database and collection to variables\n",
    "db = mongo[database_name]\n",
    "collection = db[collection_name]\n",
    "\n",
    "# Define the query to retrieve meteorites that fell between 1983 and 2023\n",
    "query = {'year': {'$gte': 1983, '$lte': 2023}}\n",
    "\n",
    "# Retrieve meteorites that match the query\n",
    "matching_meteorites = list(collection.find(query))\n",
    "\n",
    "# Specify the path for the new JSON file\n",
    "json_file_path = 'meteorite 1983-2023.json'\n",
    "\n",
    "# Write meteorite data to the JSON file using the custom encoder\n",
    "with open(json_file_path, 'w', encoding='utf-8') as json_file:\n",
    "    json.dump(matching_meteorites, json_file, indent=2, cls=JSONEncoder)\n",
    "\n",
    "print(f'JSON file \"{json_file_path}\" created successfully.')\n",
    "\n"
   ]
  },
  {
   "cell_type": "code",
   "execution_count": null,
   "id": "5162ade0",
   "metadata": {},
   "outputs": [],
   "source": []
  }
 ],
 "metadata": {
  "kernelspec": {
   "display_name": "Python 3 (ipykernel)",
   "language": "python",
   "name": "python3"
  },
  "language_info": {
   "codemirror_mode": {
    "name": "ipython",
    "version": 3
   },
   "file_extension": ".py",
   "mimetype": "text/x-python",
   "name": "python",
   "nbconvert_exporter": "python",
   "pygments_lexer": "ipython3",
   "version": "3.10.13"
  }
 },
 "nbformat": 4,
 "nbformat_minor": 5
}
